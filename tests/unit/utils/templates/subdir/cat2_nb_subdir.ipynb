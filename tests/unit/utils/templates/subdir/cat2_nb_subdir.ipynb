{
 "cells": [
  {
   "cell_type": "code",
   "execution_count": null,
   "id": "aab4d036-a4e4-4ab0-bb49-6aceaff8525a",
   "metadata": {
    "editable": true,
    "slideshow": {
     "slide_type": ""
    },
    "tags": ["category = cat2"]
   },
   "outputs": [],
   "source": [
    "Test notebook without notebooker tag"
   ]
  }
 ],
 "metadata": {
  "kernelspec": {
   "display_name": "Python 3.8 (py38)",
   "language": "python",
   "name": "python3"
  },
  "language_info": {
   "codemirror_mode": {
    "name": "ipython",
    "version": 3
   },
   "file_extension": ".py",
   "mimetype": "text/x-python",
   "name": "python",
   "nbconvert_exporter": "python",
   "pygments_lexer": "ipython3",
   "version": "3.8.19"
  }
 },
 "nbformat": 4,
 "nbformat_minor": 5
}
